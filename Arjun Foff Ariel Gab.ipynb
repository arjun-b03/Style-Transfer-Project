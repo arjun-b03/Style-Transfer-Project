{
 "cells": [
  {
   "cell_type": "markdown",
   "id": "22479ccb",
   "metadata": {},
   "source": [
    "# Style Transfer Project: Final Project CSE204\n",
    "\n",
    "Arjun Bomadevarra - Ariel Flahaut - Andrea Foffani - Gabriele Biroli"
   ]
  },
  {
   "cell_type": "markdown",
   "id": "f5a41618",
   "metadata": {},
   "source": [
    "## Introduction\n",
    "\n",
    "In this project our goal is to use a data set of two sets of photos: Style Photos and Content Photos. Using Machine Learning we will train our data with the goal of ultimately submitting one content photo and one style photo in order to output the content photo in the style of the style photo."
   ]
  },
  {
   "cell_type": "code",
   "execution_count": 39,
   "id": "5062acd3",
   "metadata": {},
   "outputs": [
    {
     "name": "stdout",
     "output_type": "stream",
     "text": [
      "Unexpected exception formatting exception. Falling back to standard exception\n"
     ]
    },
    {
     "name": "stderr",
     "output_type": "stream",
     "text": [
      "Traceback (most recent call last):\n",
      "  File \"/Users/ariel.flahaut/opt/anaconda3/lib/python3.8/site-packages/IPython/core/interactiveshell.py\", line 3460, in run_code\n",
      "    exec(code_obj, self.user_global_ns, self.user_ns)\n",
      "  File \"/var/folders/x2/tczl0fb10n985z37f3f86l800000gn/T/ipykernel_83980/1991142672.py\", line 7, in <module>\n",
      "    import fiftyone.zoo as foz\n",
      "  File \"/Users/ariel.flahaut/opt/anaconda3/lib/python3.8/site-packages/fiftyone/zoo/__init__.py\", line 10, in <module>\n",
      "    from .models import *\n",
      "  File \"/Users/ariel.flahaut/opt/anaconda3/lib/python3.8/site-packages/fiftyone/zoo/models/__init__.py\", line 20, in <module>\n",
      "    import fiftyone.core.models as fom\n",
      "  File \"/Users/ariel.flahaut/opt/anaconda3/lib/python3.8/site-packages/fiftyone/core/models.py\", line 23, in <module>\n",
      "    import fiftyone.core.fields as fof\n",
      "  File \"/Users/ariel.flahaut/opt/anaconda3/lib/python3.8/site-packages/fiftyone/core/fields.py\", line 22, in <module>\n",
      "    import fiftyone.core.odm as foo\n",
      "  File \"/Users/ariel.flahaut/opt/anaconda3/lib/python3.8/site-packages/fiftyone/core/odm/__init__.py\", line 10, in <module>\n",
      "    from .database import (\n",
      "  File \"/Users/ariel.flahaut/opt/anaconda3/lib/python3.8/site-packages/fiftyone/core/odm/database.py\", line 64, in <module>\n",
      "    class DatabaseConfigDocument(Document):\n",
      "  File \"/Users/ariel.flahaut/opt/anaconda3/lib/python3.8/site-packages/fiftyone/core/odm/database.py\", line 70, in DatabaseConfigDocument\n",
      "    version = fof.StringField()\n",
      "AttributeError: partially initialized module 'fiftyone.core.fields' has no attribute 'StringField' (most likely due to a circular import)\n",
      "\n",
      "During handling of the above exception, another exception occurred:\n",
      "\n",
      "Traceback (most recent call last):\n",
      "  File \"/Users/ariel.flahaut/opt/anaconda3/lib/python3.8/site-packages/IPython/core/interactiveshell.py\", line 2057, in showtraceback\n",
      "    stb = self.InteractiveTB.structured_traceback(\n",
      "  File \"/Users/ariel.flahaut/opt/anaconda3/lib/python3.8/site-packages/IPython/core/ultratb.py\", line 1118, in structured_traceback\n",
      "    return FormattedTB.structured_traceback(\n",
      "  File \"/Users/ariel.flahaut/opt/anaconda3/lib/python3.8/site-packages/IPython/core/ultratb.py\", line 1012, in structured_traceback\n",
      "    return VerboseTB.structured_traceback(\n",
      "  File \"/Users/ariel.flahaut/opt/anaconda3/lib/python3.8/site-packages/IPython/core/ultratb.py\", line 865, in structured_traceback\n",
      "    formatted_exception = self.format_exception_as_a_whole(etype, evalue, etb, number_of_lines_of_context,\n",
      "  File \"/Users/ariel.flahaut/opt/anaconda3/lib/python3.8/site-packages/IPython/core/ultratb.py\", line 818, in format_exception_as_a_whole\n",
      "    frames.append(self.format_record(r))\n",
      "  File \"/Users/ariel.flahaut/opt/anaconda3/lib/python3.8/site-packages/IPython/core/ultratb.py\", line 736, in format_record\n",
      "    result += ''.join(_format_traceback_lines(frame_info.lines, Colors, self.has_colors, lvals))\n",
      "  File \"/Users/ariel.flahaut/opt/anaconda3/lib/python3.8/site-packages/stack_data/utils.py\", line 145, in cached_property_wrapper\n",
      "    value = obj.__dict__[self.func.__name__] = self.func(obj)\n",
      "  File \"/Users/ariel.flahaut/opt/anaconda3/lib/python3.8/site-packages/stack_data/core.py\", line 698, in lines\n",
      "    pieces = self.included_pieces\n",
      "  File \"/Users/ariel.flahaut/opt/anaconda3/lib/python3.8/site-packages/stack_data/utils.py\", line 145, in cached_property_wrapper\n",
      "    value = obj.__dict__[self.func.__name__] = self.func(obj)\n",
      "  File \"/Users/ariel.flahaut/opt/anaconda3/lib/python3.8/site-packages/stack_data/core.py\", line 649, in included_pieces\n",
      "    pos = scope_pieces.index(self.executing_piece)\n",
      "  File \"/Users/ariel.flahaut/opt/anaconda3/lib/python3.8/site-packages/stack_data/utils.py\", line 145, in cached_property_wrapper\n",
      "    value = obj.__dict__[self.func.__name__] = self.func(obj)\n",
      "  File \"/Users/ariel.flahaut/opt/anaconda3/lib/python3.8/site-packages/stack_data/core.py\", line 628, in executing_piece\n",
      "    return only(\n",
      "  File \"/Users/ariel.flahaut/opt/anaconda3/lib/python3.8/site-packages/executing/executing.py\", line 164, in only\n",
      "    raise NotOneValueFound('Expected one value, found 0')\n",
      "executing.executing.NotOneValueFound: Expected one value, found 0\n"
     ]
    }
   ],
   "source": [
    "import matplotlib.pyplot as plt\n",
    "import numpy as np\n",
    "import os\n",
    "import tensorflow as tf\n",
    "from tensorflow.keras import Model\n",
    "import fiftyone as fo\n",
    "import fiftyone.zoo as foz\n",
    "from fiftyone.utils.nb import launch_app \n",
    "\n",
    "\n",
    "# List available zoo datasets\n",
    "print(foz.list_zoo_datasets())\n",
    "\n",
    "#\n",
    "# Load the COCO-2017 validation split into a FiftyOne dataset\n",
    "#\n",
    "# This will download the dataset from the web, if necessary\n",
    "#\n",
    "dataset = foz.load_zoo_dataset(\"coco-2017\", split=\"validation\")\n",
    "\n",
    "# Give the dataset a new name, and make it persistent so that you can\n",
    "# work with it in future sessions\n",
    "dataset.name = \"coco-2017-validation-example\"\n",
    "dataset.persistent = True\n",
    "\n",
    "# Visualize the in the App\n",
    "session = fo.launch_app(dataset)"
   ]
  },
  {
   "cell_type": "code",
   "execution_count": null,
   "id": "dfbab707",
   "metadata": {},
   "outputs": [],
   "source": []
  },
  {
   "cell_type": "code",
   "execution_count": null,
   "id": "4e6c718b",
   "metadata": {},
   "outputs": [],
   "source": []
  }
 ],
 "metadata": {
  "kernelspec": {
   "display_name": "Python 3 (ipykernel)",
   "language": "python",
   "name": "python3"
  },
  "language_info": {
   "codemirror_mode": {
    "name": "ipython",
    "version": 3
   },
   "file_extension": ".py",
   "mimetype": "text/x-python",
   "name": "python",
   "nbconvert_exporter": "python",
   "pygments_lexer": "ipython3",
   "version": "3.8.8"
  }
 },
 "nbformat": 4,
 "nbformat_minor": 5
}
